{
  "nbformat": 4,
  "nbformat_minor": 0,
  "metadata": {
    "colab": {
      "provenance": []
    },
    "kernelspec": {
      "name": "python3",
      "display_name": "Python 3"
    },
    "language_info": {
      "name": "python"
    }
  },
  "cells": [
    {
      "cell_type": "code",
      "execution_count": null,
      "metadata": {
        "colab": {
          "base_uri": "https://localhost:8080/"
        },
        "id": "C_g1S9XfKP-i",
        "outputId": "3961697e-92f1-449c-8bee-c73148a98d9d"
      },
      "outputs": [
        {
          "output_type": "stream",
          "name": "stdout",
          "text": [
            "Mounted at /content/drive\n"
          ]
        }
      ],
      "source": [
        "from google.colab import drive\n",
        "drive.mount('/content/drive')"
      ]
    },
    {
      "cell_type": "code",
      "source": [
        "!pwd"
      ],
      "metadata": {
        "colab": {
          "base_uri": "https://localhost:8080/"
        },
        "id": "5CeVG0wMKXQh",
        "outputId": "8c0549e5-3ade-4115-eb92-9a71b21a5e75"
      },
      "execution_count": null,
      "outputs": [
        {
          "output_type": "stream",
          "name": "stdout",
          "text": [
            "/content\n"
          ]
        }
      ]
    },
    {
      "cell_type": "code",
      "source": [
        "%cd \"/content/drive/MyDrive/recommand_system\""
      ],
      "metadata": {
        "colab": {
          "base_uri": "https://localhost:8080/"
        },
        "id": "UM3_JmOfKYLz",
        "outputId": "35bacb68-e958-4424-b15c-d458468b901b"
      },
      "execution_count": null,
      "outputs": [
        {
          "output_type": "stream",
          "name": "stdout",
          "text": [
            "/content/drive/MyDrive/recommand_system\n"
          ]
        }
      ]
    },
    {
      "cell_type": "code",
      "source": [
        "import pandas as pd\n",
        "import numpy as np\n",
        "from datetime import datetime"
      ],
      "metadata": {
        "id": "dwxEYP33KZQ1"
      },
      "execution_count": null,
      "outputs": []
    },
    {
      "cell_type": "code",
      "source": [
        "PATH_DATA=\"./Central/TL_csv/\""
      ],
      "metadata": {
        "id": "_WpG6kxtKk8O"
      },
      "execution_count": null,
      "outputs": []
    },
    {
      "cell_type": "code",
      "source": [
        "codeA = pd.read_csv(PATH_DATA+\"tc_codea_코드A.csv\")"
      ],
      "metadata": {
        "id": "HMQNksFLsWIh"
      },
      "execution_count": null,
      "outputs": []
    },
    {
      "cell_type": "code",
      "source": [
        "codeB = pd.read_csv(PATH_DATA+\"tc_codeb_코드B.csv\")"
      ],
      "metadata": {
        "id": "Zuv6JW3vskbN"
      },
      "execution_count": null,
      "outputs": []
    },
    {
      "cell_type": "code",
      "source": [
        "sgg = pd.read_csv(PATH_DATA+\"tc_sgg_시군구코드.csv\")"
      ],
      "metadata": {
        "id": "2Cb_Sb12sm_5"
      },
      "execution_count": null,
      "outputs": []
    },
    {
      "cell_type": "code",
      "source": [
        "TA = pd.read_csv(PATH_DATA+\"tn_travel_여행_A.csv\")"
      ],
      "metadata": {
        "id": "prhIYrH02dFm"
      },
      "execution_count": null,
      "outputs": []
    },
    {
      "cell_type": "code",
      "source": [
        "TMA = pd.read_csv(PATH_DATA+\"tn_traveller_master_여행객 Master_A.csv\")"
      ],
      "metadata": {
        "id": "plo2RP9c2dFn"
      },
      "execution_count": null,
      "outputs": []
    },
    {
      "cell_type": "code",
      "source": [
        "VAI = pd.read_csv(PATH_DATA+\"tn_visit_area_info_방문지정보_A.csv\")"
      ],
      "metadata": {
        "id": "gXHHJsm62dFn"
      },
      "execution_count": null,
      "outputs": []
    },
    {
      "cell_type": "code",
      "source": [
        "TP_CD_DICT = {0 : 'None',\n",
        "              1 : 'SHOPPING',\n",
        "              2 : 'PARK',\n",
        "              3 : 'HISTORY',\n",
        "              4 : 'TOUR',\n",
        "              5 : 'SPORTS',\n",
        "              6 : 'ARTS',\n",
        "              7 : 'PLAY',\n",
        "              8 : 'CAMPING',\n",
        "              9 : 'FESTIVAL',\n",
        "              10 : 'SPA',\n",
        "              11 : 'EDUCATION',\n",
        "              12 : 'DRAMA',\n",
        "              13 : 'PILGRIMAGE',\n",
        "              21 : 'WELL',\n",
        "              22 : 'SNS',\n",
        "              23 : 'HOTEL',\n",
        "              24 : 'NEWPLACE',\n",
        "              25 : 'WITHPET',\n",
        "              26 : 'MIMIC',\n",
        "              27 : 'ECO',\n",
        "              28 : 'HIKING'}"
      ],
      "metadata": {
        "id": "gkNUQuArKfZR"
      },
      "execution_count": null,
      "outputs": []
    },
    {
      "cell_type": "code",
      "source": [
        "cd=sgg['SGG_CD1'].unique().tolist()\n",
        "name = sgg['SIDO_NM'].unique().tolist()\n",
        "\n",
        "for idx, i in enumerate(name):\n",
        "  nm = i[:2]\n",
        "  if nm in ['충청','전라','경상']:\n",
        "    if i =='충청북도':\n",
        "      name[idx]='충북'\n",
        "    elif i =='충청남도':\n",
        "      name[idx]='충남'\n",
        "    elif i =='전라북도':\n",
        "      name[idx]='전북'\n",
        "    elif i =='전라남도':\n",
        "      name[idx]='전남'\n",
        "    elif i =='경상북도':\n",
        "      name[idx]='경북'\n",
        "    elif i =='경상남도':\n",
        "      name[idx]='경남'\n",
        "  else:\n",
        "    name[idx]=nm\n",
        "\n",
        "dest_map = dict(zip(name, cd))\n",
        "# dest_map['경북']=47\n",
        "dest_map['도서 지역']=51"
      ],
      "metadata": {
        "id": "Pd-PkJ1EiqwG"
      },
      "execution_count": null,
      "outputs": []
    },
    {
      "cell_type": "code",
      "source": [
        "def tripdaycheck(x: str)->int:\n",
        "    x_1 = x.split('~')\n",
        "    start = x_1[0].split('-')\n",
        "    end = x_1[1].split('-')\n",
        "    start = datetime(int(start[0]), int(start[1]), int(start[2]))\n",
        "    end = datetime(int(end[0]), int(end[1]), int(end[2]))\n",
        "    diff = end-start\n",
        "\n",
        "    return diff.days+1"
      ],
      "metadata": {
        "id": "pbr_sFgJK-jL"
      },
      "execution_count": null,
      "outputs": []
    },
    {
      "cell_type": "code",
      "source": [
        "#날짜를 연/월/일로 분리\n",
        "def split_YMD(x: str)->int:\n",
        "    YMD = x.split('-')\n",
        "\n",
        "    return [int(YMD[0]), int(YMD[1]), int(YMD[2])]"
      ],
      "metadata": {
        "id": "VsYI_UUyRgdj"
      },
      "execution_count": null,
      "outputs": []
    },
    {
      "cell_type": "code",
      "source": [
        "#주소에서 시/도, 군/구만 추출\n",
        "def split_sg(x)->str:\n",
        "    x_1 =x['LOTNO_ADDR']\n",
        "    x_2 =x['ROAD_NM_ADDR']\n",
        "    if x_1 !=\" \":\n",
        "      if x_1 !=None:\n",
        "          sigg = x_1.split(\" \")\n",
        "      else:\n",
        "          sigg=[\"\"]\n",
        "    elif x_2 !=\" \":\n",
        "      if x_2 !=None:\n",
        "          sigg = x_2.split(\" \")\n",
        "      else:\n",
        "          sigg=[\"\"]\n",
        "    else:\n",
        "      sigg=[\"\"]\n",
        "    #시도, 군/구 제거 ex> 강남구 > 강남\n",
        "    if sigg[0] in dest_map.keys():\n",
        "      if len(sigg)>=2:\n",
        "        if ('도' in sigg[0])|('시' in sigg[0] ):\n",
        "          sigg[0] = sigg[0][:-1]\n",
        "        if len(sigg)>=3:\n",
        "          if ('구' in sigg[2][-1]):\n",
        "            sigg[1] = ' '.join(sigg[1:3])\n",
        "        try:\n",
        "          return [int(dest_map[sigg[0]]), int(sgg.loc[(sgg['SGG_NM']==sigg[1])&(sgg['SGG_CD1']==dest_map[sigg[0]])]['SGG_CD2'].unique()[0])]\n",
        "        except:\n",
        "          return [0, 0]\n",
        "      else:\n",
        "        return [0, 0]\n",
        "    else:\n",
        "      return [0, 0]"
      ],
      "metadata": {
        "id": "ssN7cO58Rh_A"
      },
      "execution_count": null,
      "outputs": []
    },
    {
      "cell_type": "code",
      "source": [
        "def encoding_revisit(x: str)->int:\n",
        "  if x=='Y':\n",
        "    return 2\n",
        "  elif x=='N':\n",
        "    return 1\n",
        "  else:\n",
        "    return 0"
      ],
      "metadata": {
        "id": "_1O2hGCBmHC3"
      },
      "execution_count": null,
      "outputs": []
    },
    {
      "cell_type": "code",
      "source": [
        "def encoding_gender(x: str)->int:\n",
        "  if x=='남':\n",
        "    return 1\n",
        "  elif x=='여':\n",
        "    return 2\n",
        "  else:\n",
        "    return 3"
      ],
      "metadata": {
        "id": "Ss-4_p3NewTz"
      },
      "execution_count": null,
      "outputs": []
    },
    {
      "cell_type": "code",
      "source": [
        "def encoding_destination(x: str)->int:\n",
        "  return dest_map[x]"
      ],
      "metadata": {
        "id": "EpJzmwm4fCwd"
      },
      "execution_count": null,
      "outputs": []
    },
    {
      "cell_type": "code",
      "source": [
        "def encoding_purpose(x:str):\n",
        "  TP_DICT = {'SHOPPING': 0,\n",
        "              'PARK': 0,\n",
        "              'HISTORY': 0,\n",
        "              'TOUR': 0,\n",
        "              'SPORTS': 0,\n",
        "              'ARTS': 0,\n",
        "              'PLAY': 0,\n",
        "              'CAMPING': 0,\n",
        "              'FESTIVAL': 0,\n",
        "              'SPA': 0,\n",
        "              'EDUCATION': 0,\n",
        "              'DRAMA': 0,\n",
        "              'PILGRIMAGE': 0,\n",
        "              'WELL': 0,\n",
        "              'SNS': 0,\n",
        "              'HOTEL': 0,\n",
        "              'NEWPLACE': 0,\n",
        "              'WITHPET': 0,\n",
        "              'MIMIC': 0,\n",
        "              'ECO': 0,\n",
        "              'HIKING': 0}\n",
        "\n",
        "  TP_STRING = x.split(';')\n",
        "\n",
        "  for i in TP_STRING:\n",
        "      if i.isdigit():\n",
        "          TP_DICT[TP_CD_DICT[int(i)]]=1\n",
        "      else:\n",
        "          TP_DICT['None']=1\n",
        "  return [TP_DICT['SHOPPING'],\n",
        "          TP_DICT['PARK'],\n",
        "          TP_DICT['HISTORY'],\n",
        "          TP_DICT['TOUR'],\n",
        "          TP_DICT['SPORTS'],\n",
        "          TP_DICT['ARTS'],\n",
        "          TP_DICT['PLAY'],\n",
        "          TP_DICT['CAMPING'],\n",
        "          TP_DICT['FESTIVAL'],\n",
        "          TP_DICT['SPA'],\n",
        "          TP_DICT['EDUCATION'],\n",
        "          TP_DICT['DRAMA'],\n",
        "          TP_DICT['PILGRIMAGE'],\n",
        "          TP_DICT['WELL'],\n",
        "          TP_DICT['SNS'],\n",
        "          TP_DICT['HOTEL'],\n",
        "          TP_DICT['NEWPLACE'],\n",
        "          TP_DICT['WITHPET'],\n",
        "          TP_DICT['MIMIC'],\n",
        "          TP_DICT['ECO'],\n",
        "          TP_DICT['HIKING']]"
      ],
      "metadata": {
        "id": "7S38jGBXLavS"
      },
      "execution_count": null,
      "outputs": []
    },
    {
      "cell_type": "code",
      "source": [
        "def preprocessing(TMA, TA, VAI):\n",
        "    columns=['SHOPPING',\n",
        "              'PARK',\n",
        "              'HISTORY',\n",
        "              'TOUR',\n",
        "              'SPORTS',\n",
        "              'ARTS',\n",
        "              'PLAY',\n",
        "              'CAMPING',\n",
        "              'FESTIVAL',\n",
        "              'SPA',\n",
        "              'EDUCATION',\n",
        "              'DRAMA',\n",
        "              'PILGRIMAGE',\n",
        "              'WELL',\n",
        "              'SNS',\n",
        "              'HOTEL',\n",
        "              'NEWPLACE',\n",
        "              'WITHPET',\n",
        "              'MIMIC',\n",
        "              'ECO',\n",
        "              'HIKING']\n",
        "    PRE_TMA = TMA[['TRAVELER_ID',\n",
        "                   'GENDER',\n",
        "                   'AGE_GRP',\n",
        "                   'TRAVEL_LIKE_SIDO_1',\n",
        "                   'TRAVEL_LIKE_SGG_1',\n",
        "                   'TRAVEL_LIKE_SIDO_2',\n",
        "                   'TRAVEL_LIKE_SGG_2',\n",
        "                   'TRAVEL_LIKE_SIDO_3',\n",
        "                   'TRAVEL_LIKE_SGG_3',\n",
        "                   'TRAVEL_STYL_1',\n",
        "                   'TRAVEL_STYL_2',\n",
        "                   'TRAVEL_STYL_3',\n",
        "                   'TRAVEL_STYL_4',\n",
        "                   'TRAVEL_STYL_5',\n",
        "                   'TRAVEL_STYL_6',\n",
        "                   'TRAVEL_STYL_7',\n",
        "                   'TRAVEL_STYL_8',\n",
        "                   'TRAVEL_STATUS_DESTINATION',\n",
        "                   'TRAVEL_MOTIVE_1',\n",
        "                   'TRAVEL_MOTIVE_2',\n",
        "                   'TRAVEL_MOTIVE_3']].copy()\n",
        "\n",
        "    PRE_TA = TA[['TRAVELER_ID', 'TRAVEL_ID', 'TRAVEL_PURPOSE']].copy()\n",
        "\n",
        "    PRE_TA['TRAVEL_PERIOD'] = TMA['TRAVEL_STATUS_YMD'].apply(tripdaycheck)\n",
        "    PRE_TMA['GENDER'] = PRE_TMA['GENDER'].apply(encoding_gender)\n",
        "    PRE_TMA['TRAVEL_STATUS_DESTINATION'] = PRE_TMA['TRAVEL_STATUS_DESTINATION'].apply(encoding_destination)\n",
        "\n",
        "    PRE_TA = pd.concat([PRE_TA, pd.DataFrame(data=PRE_TA['TRAVEL_PURPOSE'].apply(lambda x:encoding_purpose(x)).tolist(), columns=columns)], axis=1)\n",
        "    PRE_VAI = VAI[['VISIT_AREA_ID', 'TRAVEL_ID', 'VISIT_ORDER', 'VISIT_AREA_NM',\n",
        "       'VISIT_START_YMD', 'VISIT_END_YMD', 'ROAD_NM_ADDR', 'LOTNO_ADDR',\n",
        "       'X_COORD', 'Y_COORD', 'RESIDENCE_TIME_MIN', 'VISIT_AREA_TYPE_CD', 'REVISIT_YN',\n",
        "       'VISIT_CHC_REASON_CD', 'DGSTFN', 'REVISIT_INTENTION',\n",
        "       'RCMDTN_INTENTION']].copy()\n",
        "\n",
        "    PRE_VAI = pd.concat([PRE_VAI, pd.DataFrame(data=VAI['VISIT_START_YMD'].apply(split_YMD).tolist(), columns=['Y','M','D'])], axis=1)\n",
        "    PRE_VAI = pd.concat([PRE_VAI, pd.DataFrame(data=VAI.fillna(\" \").apply(lambda x: split_sg(x), axis=1).tolist(), columns=['S','G'])], axis=1)\n",
        "    PRE_VAI['REVISIT_YN'] = PRE_VAI['REVISIT_YN'].apply(encoding_revisit)\n",
        "    PRE_VAI=PRE_VAI.drop(PRE_VAI[\n",
        "        (PRE_VAI['VISIT_AREA_TYPE_CD']==21)|\n",
        "         (PRE_VAI['VISIT_AREA_TYPE_CD']==22)|\n",
        "          (PRE_VAI['VISIT_AREA_TYPE_CD']==23)|\n",
        "           (PRE_VAI['VISIT_AREA_TYPE_CD']==24)\n",
        "           ].index\n",
        "                         )\n",
        "    PRE_VAI.fillna(0)\n",
        "    PRE_VAI=PRE_VAI.drop(PRE_VAI[\n",
        "        (PRE_VAI['S']==0)|\n",
        "         (PRE_VAI['G']==0)\n",
        "         ].index)\n",
        "\n",
        "\n",
        "    return PRE_TMA.fillna(0), PRE_TA.fillna(0), PRE_VAI.fillna(0)"
      ],
      "metadata": {
        "id": "dI3yAdWmK5i_"
      },
      "execution_count": null,
      "outputs": []
    },
    {
      "cell_type": "code",
      "source": [
        "PRE_TMA, PRE_TA, PRE_VAI = preprocessing(TMA, TA, VAI)"
      ],
      "metadata": {
        "id": "RrQsrB3_LDU2"
      },
      "execution_count": null,
      "outputs": []
    },
    {
      "cell_type": "code",
      "source": [
        "PRE_TMA.to_csv(PATH_DATA+'preprocessd_traveller.csv', index=False)\n",
        "PRE_TA.to_csv(PATH_DATA+'preprocessd_travel.csv', index=False)\n",
        "PRE_VAI.to_csv(PATH_DATA+'preprocessd_visit_area.csv', index=False)"
      ],
      "metadata": {
        "id": "VjeerFGpRG3m"
      },
      "execution_count": null,
      "outputs": []
    },
    {
      "cell_type": "code",
      "source": [
        "PRE_VAI.sample(1).squeeze()"
      ],
      "metadata": {
        "id": "0E2fTxfvSyck"
      },
      "execution_count": null,
      "outputs": []
    },
    {
      "cell_type": "code",
      "source": [],
      "metadata": {
        "id": "qfgd8pv-vWSr"
      },
      "execution_count": null,
      "outputs": []
    }
  ]
}